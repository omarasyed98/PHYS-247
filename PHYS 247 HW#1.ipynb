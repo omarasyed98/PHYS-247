{
 "cells": [
  {
   "cell_type": "code",
   "execution_count": 1,
   "metadata": {},
   "outputs": [],
   "source": [
    "import numpy as np\n",
    "import matplotlib.pylab as plt"
   ]
  },
  {
   "cell_type": "markdown",
   "metadata": {},
   "source": [
    "###### PROBLEM #1 C)"
   ]
  },
  {
   "cell_type": "code",
   "execution_count": 2,
   "metadata": {},
   "outputs": [
    {
     "data": {
      "text/plain": [
       "array([[0, 0, 0, 0, 0, 0, 0, 0, 1, 0],\n",
       "       [0, 0, 1, 0, 1, 0, 0, 0, 0, 0],\n",
       "       [0, 1, 0, 1, 0, 1, 0, 0, 0, 0],\n",
       "       [0, 0, 1, 0, 0, 0, 1, 0, 0, 0],\n",
       "       [0, 1, 0, 0, 0, 1, 0, 1, 0, 0],\n",
       "       [0, 0, 1, 0, 1, 0, 1, 0, 1, 0],\n",
       "       [0, 0, 0, 1, 0, 1, 0, 0, 0, 1],\n",
       "       [0, 0, 0, 0, 1, 0, 0, 0, 1, 0],\n",
       "       [1, 0, 0, 0, 0, 1, 0, 1, 0, 1],\n",
       "       [0, 0, 0, 0, 0, 0, 1, 0, 1, 0]])"
      ]
     },
     "execution_count": 2,
     "metadata": {},
     "output_type": "execute_result"
    }
   ],
   "source": [
    "A=np.array([[0,0,0,0,0,0,0,0,1,0],[0,0,1,0,1,0,0,0,0,0],[0,1,0,1,0,1,0,0,0,0], [0,0,1,0,0,0,1,0,0,0], [0,1,0,0,0,1,0,1,0,0], [0,0,1,0,1,0,1,0,1,0], [0,0,0,1,0,1,0,0,0,1], [0,0,0,0,1,0,0,0,1,0], [1,0,0,0,0,1,0,1,0,1], [0,0,0,0,0,0,1,0,1,0]])\n",
    "A"
   ]
  },
  {
   "cell_type": "code",
   "execution_count": 3,
   "metadata": {},
   "outputs": [
    {
     "data": {
      "text/plain": [
       "matrix([[0, 0, 0, 0, 0, 0, 0, 0, 1, 0],\n",
       "        [0, 0, 1, 0, 1, 0, 0, 0, 0, 0],\n",
       "        [0, 1, 0, 1, 0, 1, 0, 0, 0, 0],\n",
       "        [0, 0, 1, 0, 0, 0, 1, 0, 0, 0],\n",
       "        [0, 1, 0, 0, 0, 1, 0, 1, 0, 0],\n",
       "        [0, 0, 1, 0, 1, 0, 1, 0, 1, 0],\n",
       "        [0, 0, 0, 1, 0, 1, 0, 0, 0, 1],\n",
       "        [0, 0, 0, 0, 1, 0, 0, 0, 1, 0],\n",
       "        [1, 0, 0, 0, 0, 1, 0, 1, 0, 1],\n",
       "        [0, 0, 0, 0, 0, 0, 1, 0, 1, 0]])"
      ]
     },
     "execution_count": 3,
     "metadata": {},
     "output_type": "execute_result"
    }
   ],
   "source": [
    "A=np.matrix(A)\n",
    "A"
   ]
  },
  {
   "cell_type": "code",
   "execution_count": 4,
   "metadata": {},
   "outputs": [
    {
     "data": {
      "text/plain": [
       "matrix([[0, 0, 0, 0, 0, 0, 0, 0, 1, 0],\n",
       "        [0, 0, 1, 0, 1, 0, 0, 0, 0, 0],\n",
       "        [0, 1, 0, 1, 0, 1, 0, 0, 0, 0],\n",
       "        [0, 0, 1, 0, 0, 0, 1, 0, 0, 0],\n",
       "        [0, 1, 0, 0, 0, 1, 0, 1, 0, 0],\n",
       "        [0, 0, 1, 0, 1, 0, 1, 0, 1, 0],\n",
       "        [0, 0, 0, 1, 0, 1, 0, 0, 0, 1],\n",
       "        [0, 0, 0, 0, 1, 0, 0, 0, 1, 0],\n",
       "        [1, 0, 0, 0, 0, 1, 0, 1, 0, 1],\n",
       "        [0, 0, 0, 0, 0, 0, 1, 0, 1, 0]])"
      ]
     },
     "execution_count": 4,
     "metadata": {},
     "output_type": "execute_result"
    }
   ],
   "source": [
    "A=A.T\n",
    "A"
   ]
  },
  {
   "cell_type": "markdown",
   "metadata": {},
   "source": [
    "From the above matrices we can see that A.T = A.\n",
    "This occurs since the matrix of neighbors goes both ways. For example 0 neighbors 8, but at the same time 8 also neighbors 0. "
   ]
  },
  {
   "cell_type": "code",
   "execution_count": 5,
   "metadata": {},
   "outputs": [
    {
     "data": {
      "text/plain": [
       "matrix([[1],\n",
       "        [1],\n",
       "        [1],\n",
       "        [1],\n",
       "        [1],\n",
       "        [1],\n",
       "        [1],\n",
       "        [1],\n",
       "        [1],\n",
       "        [1]])"
      ]
     },
     "execution_count": 5,
     "metadata": {},
     "output_type": "execute_result"
    }
   ],
   "source": [
    "omega1 =np.array([[1],[1],[1], [1], [1], [1], [1], [1], [1], [1]])\n",
    "omega1=np.matrix(omega1)\n",
    "omega1"
   ]
  },
  {
   "cell_type": "markdown",
   "metadata": {},
   "source": [
    "###### PROBLEM #1 D)"
   ]
  },
  {
   "cell_type": "code",
   "execution_count": 6,
   "metadata": {},
   "outputs": [],
   "source": [
    "def Dialer_Problem (S,N):\n",
    "    p= np.dot(A, omega1)\n",
    "    for i in range(N-2):\n",
    "        p = np.dot(A,p)\n",
    "    print (p[S])\n",
    "    \n",
    "#I believe I need to use N-2 for the range since I have to use \"p= np.dot(A, omega1)\" to initialize a value to multiply to in a\n",
    "#for loop\n",
    "\n"
   ]
  },
  {
   "cell_type": "code",
   "execution_count": 7,
   "metadata": {},
   "outputs": [
    {
     "name": "stdout",
     "output_type": "stream",
     "text": [
      "[[18713]]\n"
     ]
    }
   ],
   "source": [
    "Dialer_Problem (5,10)"
   ]
  },
  {
   "cell_type": "markdown",
   "metadata": {},
   "source": [
    "###### PROBLEM #1 E)"
   ]
  },
  {
   "cell_type": "code",
   "execution_count": 8,
   "metadata": {},
   "outputs": [],
   "source": [
    "def MatrixMulti(A,B):\n",
    "    \"\"\"\n",
    "    A function which computes matrix multiplication of the first \n",
    "    and second inputs. Inputs should be list-like.\n",
    "    \"\"\"\n",
    "    \n",
    "    if len(A[0])==len(B):\n",
    "        R=[[sum(x*y for x,y in zip(A_row,B_col)) for B_col in zip(*B)] for A_row in A]\n",
    "        return R\n",
    "    else: \n",
    "        print('Matrix dimensions do not match')"
   ]
  },
  {
   "cell_type": "code",
   "execution_count": 9,
   "metadata": {},
   "outputs": [],
   "source": [
    "C = [[0,0,0,0,0,0,0,0,1,0],[0,0,1,0,1,0,0,0,0,0],[0,1,0,1,0,1,0,0,0,0], [0,0,1,0,0,0,1,0,0,0], [0,1,0,0,0,1,0,1,0,0], [0,0,1,0,1,0,1,0,1,0], [0,0,0,1,0,1,0,0,0,1], [0,0,0,0,1,0,0,0,1,0], [1,0,0,0,0,1,0,1,0,1], [0,0,0,0,0,0,1,0,1,0]]\n",
    "E = [[1],[1],[1], [1], [1], [1], [1], [1], [1], [1]]"
   ]
  },
  {
   "cell_type": "code",
   "execution_count": 10,
   "metadata": {},
   "outputs": [],
   "source": [
    "def Dialer_Problem_without_numpy (S,N):\n",
    "    p= MatrixMulti(C,E)\n",
    "    for i in range(N-2):\n",
    "        p = MatrixMulti(C,p)\n",
    "    print (p[S])"
   ]
  },
  {
   "cell_type": "code",
   "execution_count": 11,
   "metadata": {},
   "outputs": [
    {
     "name": "stdout",
     "output_type": "stream",
     "text": [
      "[18713]\n"
     ]
    }
   ],
   "source": [
    "Dialer_Problem_without_numpy (5,10)"
   ]
  },
  {
   "cell_type": "markdown",
   "metadata": {},
   "source": [
    "###### PROBLEM #1 F)"
   ]
  },
  {
   "cell_type": "code",
   "execution_count": 12,
   "metadata": {},
   "outputs": [],
   "source": [
    "def Dialer_Problem_time (S,N):\n",
    "    p= MatrixMulti(C,E)\n",
    "    for i in range(N-2):\n",
    "        p = MatrixMulti(C,p)\n",
    "    return (p[S])\n",
    "\n",
    "\n",
    "import time\n",
    "times=[]\n",
    "for t in range (0,1000):\n",
    "    t1 = time.time()\n",
    "    Dialer_Problem_time (5,t)\n",
    "    t2 = time.time()\n",
    "    h = t2-t1\n",
    "    times.append(h)\n",
    "\n",
    "\n"
   ]
  },
  {
   "cell_type": "markdown",
   "metadata": {},
   "source": [
    "###### PROBLEM #1 G)"
   ]
  },
  {
   "cell_type": "code",
   "execution_count": 13,
   "metadata": {},
   "outputs": [
    {
     "data": {
      "image/png": "[encoded data removed]",
      "text/plain": [
       "<Figure size 576x576 with 1 Axes>"
      ]
     },
     "metadata": {
      "needs_background": "light"
     },
     "output_type": "display_data"
    },
    {
     "name": "stdout",
     "output_type": "stream",
     "text": [
      "Time for N=10^7 is: 185.5038787716096 seconds\n"
     ]
    }
   ],
   "source": [
    "x= range (0,1000)\n",
    "y= times\n",
    "\n",
    "q = np.polyfit(x, y, 1)\n",
    "\n",
    "plt.figure(figsize=(8,8))\n",
    "plt.plot(x,y,c='darkred')\n",
    "plt.plot(x, q[0]*x + q[1], c='yellow', linewidth =5)\n",
    "plt.xlabel('N', fontsize=15)\n",
    "plt.ylabel('Execution Time (s)', fontsize=15)\n",
    "plt.xticks(fontsize=13)\n",
    "plt.yticks(fontsize=13)\n",
    "plt.show()\n",
    "\n",
    "#Time for N=10^7\n",
    "\n",
    "time = q[0]*10000000 + q[1]\n",
    "\n",
    "print (\"Time for N=10^7 is:\",  time, \"seconds\")"
   ]
  },
  {
   "cell_type": "markdown",
   "metadata": {},
   "source": [
    "###### PROBLEM #1 H)"
   ]
  },
  {
   "cell_type": "code",
   "execution_count": 14,
   "metadata": {},
   "outputs": [],
   "source": [
    "def expt_rec(a, b):\n",
    "    if b == 0:\n",
    "        return 1\n",
    "    elif b % 2 == 1:\n",
    "        return np.dot(a,expt_rec(a, b - 1))\n",
    "    else:\n",
    "        p = expt_rec(a, b / 2)\n",
    "        return np.dot(p,p)"
   ]
  },
  {
   "cell_type": "markdown",
   "metadata": {},
   "source": [
    "###### PROBLEM #1 I)"
   ]
  },
  {
   "cell_type": "code",
   "execution_count": 15,
   "metadata": {},
   "outputs": [],
   "source": [
    "def Dialer_Problem_with_binary (S,N):\n",
    "    t = np.dot(expt_rec(A,N-1),omega1)\n",
    "    return (t[S])"
   ]
  },
  {
   "cell_type": "code",
   "execution_count": 33,
   "metadata": {},
   "outputs": [
    {
     "data": {
      "text/plain": [
       "matrix([[18713]])"
      ]
     },
     "execution_count": 33,
     "metadata": {},
     "output_type": "execute_result"
    }
   ],
   "source": [
    "Dialer_Problem_with_binary(5,10)"
   ]
  },
  {
   "cell_type": "markdown",
   "metadata": {},
   "source": [
    "###### PROBLEM #1 J)"
   ]
  },
  {
   "cell_type": "code",
   "execution_count": 34,
   "metadata": {},
   "outputs": [],
   "source": [
    "import time\n",
    "times=[]\n",
    "for t in range (1,1000):\n",
    "    t1 = time.time()\n",
    "    Dialer_Problem_with_binary (5,t)\n",
    "    t2 = time.time()\n",
    "    h = t2-t1\n",
    "    times.append(h)"
   ]
  },
  {
   "cell_type": "markdown",
   "metadata": {},
   "source": [
    "###### PROBLEM #1 K)"
   ]
  },
  {
   "cell_type": "code",
   "execution_count": 31,
   "metadata": {},
   "outputs": [
    {
     "data": {
      "image/png": "[encoded data removed]",
      "text/plain": [
       "<Figure size 576x576 with 1 Axes>"
      ]
     },
     "metadata": {
      "needs_background": "light"
     },
     "output_type": "display_data"
    },
    {
     "name": "stdout",
     "output_type": "stream",
     "text": [
      "Time for N=10^7 is: 2.4866620444969917e-07 seconds\n"
     ]
    }
   ],
   "source": [
    "x= range (1,1000)\n",
    "y= times\n",
    "\n",
    "q = np.polyfit(x, y, 1)\n",
    "\n",
    "plt.figure(figsize=(8,8))\n",
    "plt.plot(x,y,c='darkred')\n",
    "plt.plot(x, q[0]*x + q[1], c='yellow', linewidth =5)\n",
    "plt.xlabel('N', fontsize=15)\n",
    "plt.ylabel('Execution Time (s)', fontsize=15)\n",
    "plt.xticks(fontsize=13)\n",
    "plt.yticks(fontsize=13)\n",
    "plt.show()\n",
    "\n",
    "#Time for N=10^7\n",
    "\n",
    "time = q[0]*10000000 + q[1]\n",
    "\n",
    "print (\"Time for N=10^7 is:\",  time, \"seconds\")"
   ]
  },
  {
   "cell_type": "markdown",
   "metadata": {},
   "source": [
    "Using a binary system to calculate solutions took significantly less time than using a decimal system. This is due to the much fewer amount of matrix multiplications and calculations that need to take place."
   ]
  },
  {
   "cell_type": "markdown",
   "metadata": {},
   "source": [
    "###### PROBLEM #2"
   ]
  },
  {
   "cell_type": "code",
   "execution_count": 36,
   "metadata": {},
   "outputs": [
    {
     "data": {
      "text/plain": [
       "array([[ 1.72,  0.1 ],\n",
       "       [-0.58,  0.31],\n",
       "       [ 1.99,  1.54],\n",
       "       [ 1.6 ,  4.97],\n",
       "       [ 2.72,  2.43],\n",
       "       [ 2.83,  3.59],\n",
       "       [ 5.95,  7.71],\n",
       "       [ 4.75,  7.63],\n",
       "       [ 5.57,  5.6 ],\n",
       "       [ 9.82,  7.91]])"
      ]
     },
     "execution_count": 36,
     "metadata": {},
     "output_type": "execute_result"
    }
   ],
   "source": [
    "D=np.array([[1.72,0.10],[-0.58,0.31],[1.99,1.54], [1.60,4.97], [2.72,2.43], [2.83,3.59], [5.95,7.71], [4.75,7.63], [5.57,5.60], [9.82,7.91]])\n",
    "D"
   ]
  },
  {
   "cell_type": "markdown",
   "metadata": {},
   "source": [
    "###### PROBLEM #2 A)"
   ]
  },
  {
   "cell_type": "code",
   "execution_count": 37,
   "metadata": {
    "scrolled": false
   },
   "outputs": [
    {
     "data": {
      "text/plain": [
       "array([[8.70742333, 7.41923   ],\n",
       "       [7.41923   , 9.21336556]])"
      ]
     },
     "execution_count": 37,
     "metadata": {},
     "output_type": "execute_result"
    }
   ],
   "source": [
    "L = np.cov(D.T)\n",
    "L"
   ]
  },
  {
   "cell_type": "markdown",
   "metadata": {},
   "source": [
    "###### PROBLEM #2 B)"
   ]
  },
  {
   "cell_type": "code",
   "execution_count": 38,
   "metadata": {},
   "outputs": [
    {
     "data": {
      "text/plain": [
       "array([-0.69495436, -0.71905385])"
      ]
     },
     "execution_count": 38,
     "metadata": {},
     "output_type": "execute_result"
    }
   ],
   "source": [
    "Z=np.linalg.eig(L)\n",
    "Z\n",
    "v=Z[1].T[1]\n",
    "v"
   ]
  },
  {
   "cell_type": "markdown",
   "metadata": {},
   "source": [
    "###### PROBLEM #2 C)"
   ]
  },
  {
   "cell_type": "code",
   "execution_count": 39,
   "metadata": {},
   "outputs": [
    {
     "data": {
      "text/plain": [
       "array([ -1.26722688,   0.18016683,  -2.4903021 ,  -4.68562461,\n",
       "        -3.63757671,  -4.54812416,  -9.67888362,  -8.78741408,\n",
       "        -7.89759734, -12.51216776])"
      ]
     },
     "execution_count": 39,
     "metadata": {},
     "output_type": "execute_result"
    }
   ],
   "source": [
    "Eigen = np.dot(D,v)\n",
    "Eigen"
   ]
  },
  {
   "cell_type": "code",
   "execution_count": 62,
   "metadata": {},
   "outputs": [
    {
     "data": {
      "image/png": "[encoded data removed]",
      "text/plain": [
       "<Figure size 432x288 with 1 Axes>"
      ]
     },
     "metadata": {
      "needs_background": "light"
     },
     "output_type": "display_data"
    }
   ],
   "source": [
    "n= range(1,11)\n",
    "\n",
    "#plt.figure(figsize=(8,8))\n",
    "#plt.scatter(D.T[0],D.T[1],c='darkred', marker= 'o')\n",
    "fig, ax = plt.subplots()\n",
    "ax.scatter(D.T[0],D.T[1])\n",
    "plt.xlabel('X', fontsize=15)\n",
    "plt.ylabel('Y', fontsize=15)\n",
    "i=1\n",
    "for x,y in zip(D.T[0],D.T[1]):\n",
    "    label = \"{:.2f}\".format(y)\n",
    "    plt.annotate(i, (x,y), textcoords=\"offset points\", xytext=(0,10), ha='center')\n",
    "    i+=1\n",
    "    \n",
    "plt.xticks(fontsize=13)\n",
    "plt.yticks(fontsize=13)\n",
    "plt.show()"
   ]
  },
  {
   "cell_type": "code",
   "execution_count": 69,
   "metadata": {},
   "outputs": [
    {
     "data": {
      "image/png": "[encoded data removed]",
      "text/plain": [
       "<Figure size 432x288 with 1 Axes>"
      ]
     },
     "metadata": {
      "needs_background": "light"
     },
     "output_type": "display_data"
    }
   ],
   "source": [
    "n= range(1,11)\n",
    "r = [0,0,0,0,0,0,0,0,0,0]\n",
    "#plt.figure(figsize=(8,8))\n",
    "#plt.scatter(D.T[0],D.T[1],c='darkred', marker= 'o')\n",
    "fig, ax = plt.subplots()\n",
    "ax.scatter(Eigen,r)\n",
    "plt.xlabel('X', fontsize=15)\n",
    "plt.ylabel('Y', fontsize=15)\n",
    "i=1\n",
    "for x,y in zip(Eigen,r):\n",
    "    label = \"{:.2f}\".format(y)\n",
    "    plt.annotate(i, (x,y), textcoords=\"offset points\", xytext=(0,10), ha='center')\n",
    "    i+=1\n",
    "    \n",
    "plt.xticks(fontsize=13)\n",
    "plt.yticks(fontsize=13)\n",
    "plt.show()"
   ]
  }
 ],
 "metadata": {
  "kernelspec": {
   "display_name": "Python 3",
   "language": "python",
   "name": "python3"
  },
  "language_info": {
   "codemirror_mode": {
    "name": "ipython",
    "version": 3
   },
   "file_extension": ".py",
   "mimetype": "text/x-python",
   "name": "python",
   "nbconvert_exporter": "python",
   "pygments_lexer": "ipython3",
   "version": "3.6.8"
  }
 },
 "nbformat": 4,
 "nbformat_minor": 2
}
